{
 "cells": [
  {
   "cell_type": "markdown",
   "metadata": {},
   "source": [
    "# Tutorial: calculation of vibrational energy levels and transitions in the OCS molecule\n",
    "\n",
    "We will solve the Schrödinger equation that describes the vibrational motions of nuclei in a molecule within the potential energy surface $V_i$ of the $i$-th electronic state\n",
    "$$\\left(\\hat{T}+V_i(q_1,q_2,...,q_{3N-6})\\right)\\Psi_k^{(i)}(q_1,q_2,...,q_{3N-6}) = E_k^{(i)} \\Psi_k^{(i)}(q_1,q_2,...,q_{3N-6}).$$\n",
    "\n",
    "We will then calculate the dipole transitions between the vibrational states corresponding to different electronic states\n",
    "$$ S(k',i'\\leftarrow k,i)= \\left|\\langle \\Psi_{k'}^{(i')}| \\mu(i'\\leftarrow i)|\\Psi_{k}^{(i)}\\rangle\\right|^2$$\n",
    "\n",
    "__Approximations and assumptions__:\n",
    "\n",
    "- Born-Oppenheimer approximation: Assume no non-adiabatic coupling and no spin-orbit coupling. In principle, these can be incorporated if the corresponding _ab initio_ data is available.\n",
    "- Dipole moment surfaces: As the dipole moment surfaces for electronic states and transition dipoles are not provided, we will use the Franck-Condon approximation, i.e. $\\mu(i'\\leftarrow i) = \\texttt{const}$.\n",
    "\n",
    "__Advanced Topics__ (for offline practice):\n",
    "\n",
    "- Basis set optimization: Methods to optimise the basis set for improved accuracy, such as, for example, basis-set contraction.\n",
    "- Simulation of laser-induced vibrational dynamics: Methods to compute and visualize the time-evolution of nuclear motions (vibrational wavepackets).\n",
    "\n",
    "__Sections__:\n",
    "    \n",
    "- [ocs_coordinates.ipynb](ocs_coordinates.ipynb): Guides through the process of defining vibrational coordinates $(q_1,q_2,...,q_{3N-6})$ and constructing the vibrational kinetic-energy operator $\\hat{T}$.\n",
    "- [ocs_potential.ipynb](ocs_potential.ipynb): Shows how to establish potential energy surfaces $V_i$ for various electronic states and explore the impact of different coordinate choices on these surfaces.\n",
    "- [ocs_solutions.ipynb](ocs_solutions.ipynb): Demonstrates a practical approach to the variational solution to the vibrational Schrödinger equation.\n"
   ]
  }
 ],
 "metadata": {
  "language_info": {
   "name": "python"
  }
 },
 "nbformat": 4,
 "nbformat_minor": 2
}
