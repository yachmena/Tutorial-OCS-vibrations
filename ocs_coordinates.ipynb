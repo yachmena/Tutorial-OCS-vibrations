{
 "cells": [
  {
   "cell_type": "markdown",
   "metadata": {},
   "source": [
    "# Define vibrational coordinates and kinetic-energy operator for OCS\n",
    "\n",
    "Selecting appropriate vibrational __coordinates__ is crucial for accelerating variational calculations by improving the convergence of the __basis set__.\n",
    "\n",
    "Examples of some commonly used vibrational coordinates for triatomic molecules.\n",
    "\n",
    "| Coordinate system | Definition | \n",
    "|:-:|:-:|\n",
    "|Valence-bond coordinates | <img src=\"assets/images/ocs_valence.png\" width=\"300\" />|\n",
    "|Jacobi coordinates |  <img src=\"assets/images/ocs_jacobi.png\" width=\"300\" />|\n",
    "\n",
    "Note: the orientation of the Cartesian axes $x$, $y$, and $z$ in the molecule does not really matter, as long as molecular rotation and rotational-vibrational coupling (Coriolis coupling) are disregarded."
   ]
  },
  {
   "cell_type": "markdown",
   "metadata": {},
   "source": [
    "## Start by loading necessary modules and functions\n",
    "\n",
    "- `com`: shifts Cartesian coordianates of atoms to the centre of mass.\n",
    "- `Gmat`: computes kinetic-energy G-matrix.\n",
    "- `masses`: masses of atoms in the order 'C', 'O', 'S'.\n",
    "- `jax`: library for computing derivatives of functions; will be necessary for computing the kinetic-energy operator.\n",
    "- `jax.numpy` or `jnp`: numpy functions that can be differentiated using `jax`. Use it as standard numpy."
   ]
  },
  {
   "cell_type": "code",
   "execution_count": 1,
   "metadata": {},
   "outputs": [],
   "source": [
    "from kinetic import com, Gmat, Gmat_batch\n",
    "from molecule import masses\n",
    "import jax\n",
    "from jax import numpy as jnp\n",
    "from jax import config\n",
    "import numpy as np\n",
    "\n",
    "config.update(\"jax_enable_x64\", True)"
   ]
  },
  {
   "cell_type": "markdown",
   "metadata": {},
   "source": [
    "## Code Cartesian coordinates of atoms as function of **valence-bond** coordinates\n",
    "\n",
    " <img src=\"assets/images/ocs_valence.png\" width=\"200\" />"
   ]
  },
  {
   "cell_type": "code",
   "execution_count": 2,
   "metadata": {},
   "outputs": [],
   "source": [
    "@com\n",
    "def valence_to_cartesian(valence_coords):\n",
    "    r_CO, r_CS, alpha = valence_coords\n",
    "    return jnp.array(\n",
    "        [\n",
    "            [0.0, 0.0, 0.0],  # C\n",
    "            [-r_CO * jnp.cos(alpha / 2), 0.0, -r_CO * jnp.sin(alpha / 2)],  # O\n",
    "            [-r_CS * jnp.cos(alpha / 2), 0.0, r_CS * jnp.sin(alpha / 2)],  # S\n",
    "        ],\n",
    "        dtype=jnp.float64,\n",
    "    )\n",
    "\n",
    "\n",
    "def cartesian_to_valence(xyz):\n",
    "    n_CO = xyz[1] - xyz[0]\n",
    "    n_CS = xyz[2] - xyz[0]\n",
    "    r_CO = jnp.linalg.norm(n_CO)\n",
    "    r_CS = jnp.linalg.norm(n_CS)\n",
    "    alpha = jnp.arccos(jnp.dot(n_CO, n_CS) / (r_CO * r_CS))\n",
    "    return jnp.array([r_CO, r_CS, alpha])\n",
    "\n",
    "# vectorized versions of functions\n",
    "cartesian_to_valence_batch = jax.vmap(cartesian_to_valence, in_axes=(0,))\n",
    "valence_to_cartesian_batch = jax.vmap(valence_to_cartesian, in_axes=(0,))"
   ]
  },
  {
   "cell_type": "markdown",
   "metadata": {},
   "source": [
    "## Code Cartesian coordinates of atoms as function of **Jacobi** coordinates\n",
    "\n",
    "<img src=\"assets/images/ocs_jacobi.png\" width=\"200\" />"
   ]
  },
  {
   "cell_type": "code",
   "execution_count": 3,
   "metadata": {},
   "outputs": [],
   "source": [
    "@com\n",
    "def jacobi_to_cartesian(jacobi_coords):\n",
    "    r_S, r_CO, theta = jacobi_coords\n",
    "    mass_C, mass_O, mass_S = masses\n",
    "    z_C = 0\n",
    "    z_O = r_CO\n",
    "    z_com = (z_C * mass_C + z_O * mass_O) / (mass_C + mass_O)\n",
    "    return jnp.array(\n",
    "        [\n",
    "            [0.0, 0.0, 0.0],  # C\n",
    "            [0.0, 0.0, r_CO],  # O\n",
    "            [r_S * jnp.sin(theta), 0.0, z_com + r_S * jnp.cos(theta)],  # S\n",
    "        ],\n",
    "        dtype=jnp.float64,\n",
    "    )\n",
    "\n",
    "\n",
    "def cartesian_to_jacobi(xyz):\n",
    "    n1 = xyz[1] - xyz[0]\n",
    "    r_CO = jnp.linalg.norm(n1)\n",
    "    com = jnp.dot(masses[:2], xyz[:2, :]) / jnp.sum(jnp.array(masses[:2]))\n",
    "    n2 = xyz[2] - com\n",
    "    r_S = jnp.linalg.norm(n2)\n",
    "    theta = jnp.arccos(jnp.dot(n1, n2) / (r_CO * r_S))\n",
    "    return jnp.array([r_S, r_CO, theta])\n",
    "\n",
    "\n",
    "# vectorized versions of functions\n",
    "cartesian_to_jacobi_batch = jax.vmap(cartesian_to_jacobi, in_axes=(0,))\n",
    "jacobi_to_cartesian_batch = jax.vmap(jacobi_to_cartesian, in_axes=(0,))"
   ]
  },
  {
   "cell_type": "markdown",
   "metadata": {},
   "source": [
    "## Details of kinetic-energy operator construction\n",
    "\n",
    "- KEO, expressed in Cartesian coordinates, for a molecule consisting of $i=1..N$ atoms in the laboratory frame:\n",
    "$$\n",
    "\\hat{T} = -\\frac{1}{2}\\sum_{i=1}^N\\frac{1}{m_i}\\sum_{\\alpha=x,y,z}\\frac{\\partial}{\\partial r_{i,\\alpha}}\\frac{\\partial}{\\partial r_{i,\\alpha}}.\n",
    "$$\n",
    "\n",
    "- Introduce a coordiante transformation from the laboratory frame to molecular frame, distinguishing $3N-6$ vibrational, 3 rotational, and 3 translational coordinates:\n",
    "$$\n",
    "\\boldsymbol{\\xi} = \\{q_1, q_2, ... q_{3N-6},\\phi,\\theta,\\chi,X_\\text{CM},Y_\\text{CM},Z_\\text{CM}\\}.\n",
    "$$\n",
    "\n",
    "- Rewrite KEO from Cartesian to $\\boldsymbol{\\xi}$ coordinates:\n",
    "$$\n",
    "\\hat{T} = -\\frac{1}{2}\\sum_{i=1}^N\\frac{1}{m_i}\\sum_{\\alpha=x,y,z}\\frac{\\partial}{\\partial r_{i,\\alpha}}\\frac{\\partial}{\\partial r_{i,\\alpha}} = \n",
    "-\\frac{1}{2}\\sum_{i=1}^N\\frac{1}{m_i}\\sum_{\\alpha=x,y,z}\\left(\\sum_l\\frac{\\partial }{\\partial \\xi_l}\\frac{\\partial \\xi_l}{\\partial r_{i,\\alpha}}\\right)\n",
    "\\left(\\sum_m\\frac{\\partial\\xi_m}{\\partial r_{i,\\alpha}}\\frac{\\partial}{\\partial \\xi_m}\\right) \\approx \\\\\n",
    "\\approx -\\frac{1}{2}\\sum_l\\sum_m\\frac{\\partial }{\\partial \\xi_l}\n",
    "\\underbrace{\\left(\n",
    "\\sum_{i=1}^N\\frac{1}{m_i}\\sum_{\\alpha=x,y,z}\\frac{\\partial \\xi_l}{\\partial r_{i,\\alpha}}\n",
    "\\frac{\\partial\\xi_m}{\\partial r_{i,\\alpha}}\n",
    "\\right)}_{G_{l,m}}\n",
    "\\frac{\\partial}{\\partial \\xi_m} =\n",
    "-\\frac{1}{2}\\sum_l\\sum_m\\frac{\\partial }{\\partial \\xi_l}\n",
    "G_{l,m}\n",
    "\\frac{\\partial}{\\partial \\xi_m}.\n",
    "$$\n",
    "\n",
    "- The kinetic-energy $G$ matrix is calculated as:\n",
    "$$\n",
    "G_{l,m} = \\sum_{i=1}^N\\frac{1}{m_i}\\sum_{\\alpha=x,y,z}\\frac{\\partial \\xi_l}{\\partial r_{i,\\alpha}}\n",
    "\\frac{\\partial\\xi_m}{\\partial r_{i,\\alpha}}\n",
    "$$\n",
    "\n",
    "$$\n",
    "g_{l,m} = \\sum_{i=1}^N m_i\\sum_{\\alpha=x,y,z}\\frac{\\partial r_{i,\\alpha}}{\\partial \\xi_l}\n",
    "\\frac{\\partial r_{i,\\alpha}}{\\partial \\xi_m}\n",
    "$$\n",
    "\n",
    "$$\n",
    "\\mathbf{G} = \\mathbf{g}^{-1}\n",
    "$$\n",
    "\n",
    "- The derivatives of Cartesian coordinates $r_{i,\\alpha}$ wrt to $\\xi_l$ coordinates can be easily to calculated as:\n",
    "$$\n",
    "\\frac{\\partial r_{i,\\alpha}}{\\partial \\xi_l} = \\left\\{\\begin{array}{ll}\n",
    "\\delta_{\\alpha,l} & \\text{COM~translation},~\\xi_l\\in \\{X_\\text{CM},Y_\\text{CM},Z_\\text{CM}\\} \\\\\n",
    "\\sum_\\gamma\\varepsilon_{\\alpha l\\gamma}r_{i,\\gamma} & \\text{rotation},~\\xi_l\\in\\{\\phi,\\theta,\\chi\\} \\\\\n",
    "\\partial r_{i,\\alpha}/\\partial q_l & \\text{vibration},~\\xi_l\\in\\{q_1,q_2,...,q_{3N-6}\\}\n",
    "\\end{array}\\right.\n",
    "$$\n",
    "-----"
   ]
  },
  {
   "cell_type": "markdown",
   "metadata": {},
   "source": [
    "The computation of derivatives of Cartesian coordinates with respect to vibrational coordinates,\n",
    "$\\partial r_{i,\\alpha}/\\partial q_l$, is accomplished through automatic differentiation\n",
    "of a user-defined function $r_{i,\\alpha} = f(q_1,q_2,...,q_{3N-6})$.\n",
    "This function accepts vibrational coordinates $(q_1,q_2,...,q_{3N-6})$\n",
    "as input and returns the $r_{i,\\alpha}$ Cartesian coordinates of atoms.\n",
    "See, for example functions such as `jacobi_to_cartesian` and `valence_to_cartesian`.\n",
    "\n",
    "The calculation of the $G$-matrix is done by the `kinetic.Gmat` function,\n",
    "which requires an array of vibrational coordinate values $(q_1, q_2, ..., q_{3N-6})$\n",
    "along with the function $f(q_1, q_2, ..., q_{3N-6})\\rightarrow r_{i,\\alpha}$.\n"
   ]
  },
  {
   "cell_type": "code",
   "execution_count": 4,
   "metadata": {},
   "outputs": [
    {
     "name": "stdout",
     "output_type": "stream",
     "text": [
      "Test serial computation of G-matrix ...\n",
      "G.shape: (9, 9)\n",
      "G vibrational:\n",
      " [[ 2.25885729e+00  1.07628682e-17 -3.59498837e-32]\n",
      " [ 1.07628682e-17  4.91747847e+00 -2.05710026e-32]\n",
      " [-3.59498837e-32 -2.05710026e-32  7.17633576e+00]]\n",
      "Test computation of G-matrix on batch of 100 points ...\n",
      "G.shape: (100, 9, 9)\n"
     ]
    }
   ],
   "source": [
    "print(f\"Test serial computation of G-matrix ...\")\n",
    "# define three values of Jacobi coordinates, r_S, r_CO, theta\n",
    "coords = np.array([1.0, 1.0, np.pi])\n",
    "\n",
    "G = Gmat(coords, jacobi_to_cartesian)\n",
    "print(\"G.shape:\", G.shape)\n",
    "print(\"G vibrational:\\n\", G[:3, :3])\n",
    "\n",
    "# batch-version of Gmat\n",
    "coords = np.abs(np.random.random((100, 3)))\n",
    "print(f\"Test computation of G-matrix on batch of {len(coords)} points ...\")\n",
    "G = Gmat_batch(coords, jacobi_to_cartesian)\n",
    "print(\"G.shape:\", G.shape)"
   ]
  },
  {
   "cell_type": "code",
   "execution_count": null,
   "metadata": {},
   "outputs": [],
   "source": []
  }
 ],
 "metadata": {
  "kernelspec": {
   "display_name": "base",
   "language": "python",
   "name": "python3"
  },
  "language_info": {
   "codemirror_mode": {
    "name": "ipython",
    "version": 3
   },
   "file_extension": ".py",
   "mimetype": "text/x-python",
   "name": "python",
   "nbconvert_exporter": "python",
   "pygments_lexer": "ipython3",
   "version": "3.9.6"
  }
 },
 "nbformat": 4,
 "nbformat_minor": 2
}
