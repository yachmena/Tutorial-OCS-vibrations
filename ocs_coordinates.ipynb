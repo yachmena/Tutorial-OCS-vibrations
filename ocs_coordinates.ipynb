{
 "cells": [
  {
   "cell_type": "markdown",
   "metadata": {},
   "source": [
    "# Define vibrational coordinates for OCS\n",
    "\n",
    "Selecting appropriate vibrational __coordinates__ is crucial for accelerating variational calculations by improving the convergence of the __basis set__.\n",
    "\n",
    "Examples of some commonly used vibrational coordinates for triatomic molecules.\n",
    "\n",
    "| Coordinate system | Definition | \n",
    "|:-:|:-:|\n",
    "|Valence-bond coordinates | <img src=\"assets/images/ocs_valence.png\" alt=\"Alternative text\" width=\"300\" />|\n",
    "|Jacobi coordinates |  <img src=\"assets/images/ocs_jacobi.png\" alt=\"Alternative text\" width=\"300\" />|\n",
    "\n",
    "Note: the orientation of the Cartesian axes $x$, $y$, and $z$ in the molecule does not really matter, as long as molecular rotation and rotational-vibrational coupling (Coriolis coupling) are disregarded."
   ]
  },
  {
   "cell_type": "markdown",
   "metadata": {},
   "source": [
    "## Start by loading necessary modules and functions\n",
    "\n",
    "- `com`: shifts Cartesian coordianates of atoms to the centre of mass.\n",
    "- `masses`: masses of atoms in the order 'C', 'O', 'S'.\n",
    "- `jax`: library for computing derivatives of functions; will be necessary for computing the kinetic-energy operator.\n",
    "- `jax.numpy` or `jnp`: numpy functions that can be differentiated using `jax`. Use it as standard numpy."
   ]
  },
  {
   "cell_type": "code",
   "execution_count": 1,
   "metadata": {},
   "outputs": [],
   "source": [
    "from kinetic import com\n",
    "from molecule import masses\n",
    "import jax\n",
    "from jax import numpy as jnp\n",
    "from jax import config\n",
    "\n",
    "config.update(\"jax_enable_x64\", True)"
   ]
  },
  {
   "cell_type": "markdown",
   "metadata": {},
   "source": [
    "## Code Cartesian coordinates of atoms as function of **valence-bond** coordinates\n",
    "\n",
    " <img src=\"assets/images/ocs_valence.png\" alt=\"Alternative text\" width=\"200\" />"
   ]
  },
  {
   "cell_type": "code",
   "execution_count": 2,
   "metadata": {},
   "outputs": [],
   "source": [
    "@com\n",
    "def _valence_to_cartesian(valence_coords):\n",
    "    r_CO, r_CS, alpha = valence_coords\n",
    "    return jnp.array(\n",
    "        [\n",
    "            [0.0, 0.0, 0.0],  # C\n",
    "            [-r_CO * jnp.cos(alpha / 2), 0.0, -r_CO * jnp.sin(alpha / 2)],  # O\n",
    "            [-r_CS * jnp.cos(alpha / 2), 0.0, r_CS * jnp.sin(alpha / 2)],  # S\n",
    "        ],\n",
    "        dtype=jnp.float64,\n",
    "    )\n",
    "\n",
    "\n",
    "def _cartesian_to_valence(xyz):\n",
    "    n_CO = xyz[1] - xyz[0]\n",
    "    n_CS = xyz[2] - xyz[0]\n",
    "    r_CO = jnp.linalg.norm(n_CO)\n",
    "    r_CS = jnp.linalg.norm(n_CS)\n",
    "    alpha = jnp.arccos(jnp.dot(n_CO, n_CS) / (r_CO * r_CS))\n",
    "    return jnp.array([r_CO, r_CS, alpha])\n",
    "\n",
    "\n",
    "cartesian_to_valence = jax.vmap(_cartesian_to_valence, in_axes=(0,))\n",
    "valence_to_cartesian = jax.vmap(_valence_to_cartesian, in_axes=(0,))"
   ]
  },
  {
   "cell_type": "markdown",
   "metadata": {},
   "source": [
    "## Code Cartesian coordinates of atoms as function of **Jacobi** coordinates\n",
    "\n",
    "<img src=\"assets/images/ocs_jacobi.png\" alt=\"Alternative text\" width=\"200\" />"
   ]
  },
  {
   "cell_type": "code",
   "execution_count": 3,
   "metadata": {},
   "outputs": [],
   "source": [
    "@com\n",
    "def _jacobi_to_cartesian(jacobi_coords):\n",
    "    r_S, r_CO, theta = jacobi_coords\n",
    "    mass_C, mass_O, mass_S = masses\n",
    "    z_C = 0\n",
    "    z_O = r_CO\n",
    "    z_com = (z_C * mass_C + z_O * mass_O) / (mass_C + mass_O)\n",
    "    return jnp.array(\n",
    "        [\n",
    "            [0.0, 0.0, 0.0],  # C\n",
    "            [0.0, 0.0, r_CO],  # O\n",
    "            [r_S * jnp.sin(theta), 0.0, z_com + r_S * jnp.cos(theta)],  # S\n",
    "        ],\n",
    "        dtype=jnp.float64,\n",
    "    )\n",
    "\n",
    "\n",
    "def _cartesian_to_jacobi(xyz):\n",
    "    n1 = xyz[1] - xyz[0]\n",
    "    r_CO = jnp.linalg.norm(n1)\n",
    "    com = jnp.dot(masses[:2], xyz[:2, :]) / jnp.sum(jnp.array(masses[:2]))\n",
    "    n2 = xyz[2] - com\n",
    "    r_S = jnp.linalg.norm(n2)\n",
    "    theta = jnp.arccos(jnp.dot(n1, n2) / (r_CO * r_S))\n",
    "    return jnp.array([r_S, r_CO, theta])\n",
    "\n",
    "\n",
    "cartesian_to_jacobi = jax.vmap(_cartesian_to_jacobi, in_axes=(0,))\n",
    "jacobi_to_cartesian = jax.vmap(_jacobi_to_cartesian, in_axes=(0,))"
   ]
  }
 ],
 "metadata": {
  "kernelspec": {
   "display_name": "base",
   "language": "python",
   "name": "python3"
  },
  "language_info": {
   "codemirror_mode": {
    "name": "ipython",
    "version": 3
   },
   "file_extension": ".py",
   "mimetype": "text/x-python",
   "name": "python",
   "nbconvert_exporter": "python",
   "pygments_lexer": "ipython3",
   "version": "3.9.6"
  }
 },
 "nbformat": 4,
 "nbformat_minor": 2
}
